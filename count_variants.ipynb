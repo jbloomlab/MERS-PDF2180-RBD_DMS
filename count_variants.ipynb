{
 "cells": [
  {
   "cell_type": "markdown",
   "metadata": {},
   "source": [
    "# Count variants in each sample\n",
    "This Python Jupyter notebook counts occurrences of each barcode in each sample from Illumina barcode sequencing, and adds these counts to the codon variant table."
   ]
  },
  {
   "cell_type": "markdown",
   "metadata": {},
   "source": [
    "## Set up analysis\n",
    "### Import Python modules.\n",
    "Use [plotnine](https://plotnine.readthedocs.io/en/stable/) for ggplot2-like plotting.\n",
    "\n",
    "The analysis relies heavily on the Bloom lab's [dms_variants](https://jbloomlab.github.io/dms_variants) package:"
   ]
  },
  {
   "cell_type": "code",
   "execution_count": 1,
   "metadata": {
    "execution": {
     "iopub.execute_input": "2023-01-28T00:27:25.196591Z",
     "iopub.status.busy": "2023-01-28T00:27:25.196064Z",
     "iopub.status.idle": "2023-01-28T00:27:28.450812Z",
     "shell.execute_reply": "2023-01-28T00:27:28.450013Z"
    }
   },
   "outputs": [],
   "source": [
    "import itertools\n",
    "import multiprocessing\n",
    "import multiprocessing.pool\n",
    "import os\n",
    "import warnings\n",
    "\n",
    "import alignparse\n",
    "import alignparse.targets\n",
    "\n",
    "import dms_variants.codonvarianttable\n",
    "from dms_variants.constants import CBPALETTE\n",
    "import dms_variants.illuminabarcodeparser\n",
    "import dms_variants.utils\n",
    "import dms_variants.plotnine_themes\n",
    "\n",
    "from IPython.display import display, HTML\n",
    "\n",
    "import pandas as pd\n",
    "\n",
    "from plotnine import *\n",
    "\n",
    "import yaml"
   ]
  },
  {
   "cell_type": "markdown",
   "metadata": {},
   "source": [
    "Set [plotnine](https://plotnine.readthedocs.io/en/stable/) theme to the gray-grid one defined in `dms_variants`:"
   ]
  },
  {
   "cell_type": "code",
   "execution_count": 2,
   "metadata": {
    "execution": {
     "iopub.execute_input": "2023-01-28T00:27:28.457015Z",
     "iopub.status.busy": "2023-01-28T00:27:28.456255Z",
     "iopub.status.idle": "2023-01-28T00:27:28.463306Z",
     "shell.execute_reply": "2023-01-28T00:27:28.462607Z"
    }
   },
   "outputs": [],
   "source": [
    "theme_set(dms_variants.plotnine_themes.theme_graygrid())"
   ]
  },
  {
   "cell_type": "markdown",
   "metadata": {},
   "source": [
    "Versions of key software:"
   ]
  },
  {
   "cell_type": "code",
   "execution_count": 3,
   "metadata": {
    "execution": {
     "iopub.execute_input": "2023-01-28T00:27:28.467421Z",
     "iopub.status.busy": "2023-01-28T00:27:28.467088Z",
     "iopub.status.idle": "2023-01-28T00:27:28.471747Z",
     "shell.execute_reply": "2023-01-28T00:27:28.471037Z"
    }
   },
   "outputs": [
    {
     "name": "stdout",
     "output_type": "stream",
     "text": [
      "Using alignparse version 0.6.0\n",
      "Using dms_variants version 1.4.2\n"
     ]
    }
   ],
   "source": [
    "print(f\"Using alignparse version {alignparse.__version__}\")\n",
    "print(f\"Using dms_variants version {dms_variants.__version__}\")"
   ]
  },
  {
   "cell_type": "markdown",
   "metadata": {},
   "source": [
    "Ignore warnings that clutter output:"
   ]
  },
  {
   "cell_type": "code",
   "execution_count": 4,
   "metadata": {
    "execution": {
     "iopub.execute_input": "2023-01-28T00:27:28.516024Z",
     "iopub.status.busy": "2023-01-28T00:27:28.515564Z",
     "iopub.status.idle": "2023-01-28T00:27:28.519898Z",
     "shell.execute_reply": "2023-01-28T00:27:28.519071Z"
    }
   },
   "outputs": [],
   "source": [
    "warnings.simplefilter('ignore')"
   ]
  },
  {
   "cell_type": "markdown",
   "metadata": {},
   "source": [
    "### Parameters for notebook\n",
    "Read the configuration file:"
   ]
  },
  {
   "cell_type": "code",
   "execution_count": 5,
   "metadata": {
    "execution": {
     "iopub.execute_input": "2023-01-28T00:27:28.522961Z",
     "iopub.status.busy": "2023-01-28T00:27:28.522444Z",
     "iopub.status.idle": "2023-01-28T00:27:28.534422Z",
     "shell.execute_reply": "2023-01-28T00:27:28.533754Z"
    }
   },
   "outputs": [],
   "source": [
    "with open('config.yaml') as f:\n",
    "    config = yaml.safe_load(f)"
   ]
  },
  {
   "cell_type": "markdown",
   "metadata": {},
   "source": [
    "Make output directory if needed:"
   ]
  },
  {
   "cell_type": "code",
   "execution_count": 6,
   "metadata": {
    "execution": {
     "iopub.execute_input": "2023-01-28T00:27:28.537838Z",
     "iopub.status.busy": "2023-01-28T00:27:28.537506Z",
     "iopub.status.idle": "2023-01-28T00:27:28.542768Z",
     "shell.execute_reply": "2023-01-28T00:27:28.542030Z"
    }
   },
   "outputs": [],
   "source": [
    "os.makedirs(config['counts_dir'], exist_ok=True)\n",
    "os.makedirs(config['figs_dir'], exist_ok=True)"
   ]
  },
  {
   "cell_type": "markdown",
   "metadata": {},
   "source": [
    "## Input variant tables\n",
    "Initialize the table of barcode-variant pairs from the respective `process_ccs` notebooks for each background."
   ]
  },
  {
   "cell_type": "code",
   "execution_count": 7,
   "metadata": {
    "execution": {
     "iopub.execute_input": "2023-01-28T00:27:28.546396Z",
     "iopub.status.busy": "2023-01-28T00:27:28.546084Z",
     "iopub.status.idle": "2023-01-28T00:27:28.892180Z",
     "shell.execute_reply": "2023-01-28T00:27:28.891449Z"
    }
   },
   "outputs": [
    {
     "data": {
      "text/html": [
       "<table border=\"1\" class=\"dataframe\">\n",
       "  <thead>\n",
       "    <tr style=\"text-align: right;\">\n",
       "      <th>target</th>\n",
       "      <th>library</th>\n",
       "      <th>barcode</th>\n",
       "      <th>variant_call_support</th>\n",
       "      <th>codon_substitutions</th>\n",
       "      <th>aa_substitutions</th>\n",
       "      <th>n_codon_substitutions</th>\n",
       "      <th>n_aa_substitutions</th>\n",
       "    </tr>\n",
       "  </thead>\n",
       "  <tbody>\n",
       "    <tr>\n",
       "      <td>MERS</td>\n",
       "      <td>lib51_53</td>\n",
       "      <td>AAAAAAAAACATTCGT</td>\n",
       "      <td>1</td>\n",
       "      <td>AAC145TTG</td>\n",
       "      <td>N145L</td>\n",
       "      <td>1</td>\n",
       "      <td>1</td>\n",
       "    </tr>\n",
       "    <tr>\n",
       "      <td>MERS</td>\n",
       "      <td>lib51_53</td>\n",
       "      <td>AAAAAAAAAGACTTTC</td>\n",
       "      <td>1</td>\n",
       "      <td>GTA158AAA</td>\n",
       "      <td>V158K</td>\n",
       "      <td>1</td>\n",
       "      <td>1</td>\n",
       "    </tr>\n",
       "    <tr>\n",
       "      <td>MERS</td>\n",
       "      <td>lib51_53</td>\n",
       "      <td>AAAAAAAAAGCGATAG</td>\n",
       "      <td>4</td>\n",
       "      <td>TCC128---</td>\n",
       "      <td>S128-</td>\n",
       "      <td>1</td>\n",
       "      <td>1</td>\n",
       "    </tr>\n",
       "    <tr>\n",
       "      <td>MERS</td>\n",
       "      <td>lib51_53</td>\n",
       "      <td>AAAAAAAAATTGAGGT</td>\n",
       "      <td>2</td>\n",
       "      <td>CCT139CAA</td>\n",
       "      <td>P139Q</td>\n",
       "      <td>1</td>\n",
       "      <td>1</td>\n",
       "    </tr>\n",
       "    <tr>\n",
       "      <td>MERS</td>\n",
       "      <td>lib51_53</td>\n",
       "      <td>AAAAAAAACAATCCCG</td>\n",
       "      <td>4</td>\n",
       "      <td>ACA188TAT</td>\n",
       "      <td>T188Y</td>\n",
       "      <td>1</td>\n",
       "      <td>1</td>\n",
       "    </tr>\n",
       "  </tbody>\n",
       "</table>"
      ],
      "text/plain": [
       "<IPython.core.display.HTML object>"
      ]
     },
     "metadata": {},
     "output_type": "display_data"
    }
   ],
   "source": [
    "variants = pd.read_csv(config['codon_variant_table_file_MERS'], na_filter=None)\n",
    "variants = variants.append(pd.read_csv(config['codon_variant_table_file_PDF2180'], na_filter=None))\n",
    "\n",
    "variants = variants.reset_index(drop=True)\n",
    "\n",
    "display(HTML(variants.head().to_html(index=False)))"
   ]
  },
  {
   "cell_type": "markdown",
   "metadata": {},
   "source": [
    "Are there any barcodes in the same library that are shared across targets?\n",
    "If so, we need to get rid of those as they will be confounded in barcode parsing:"
   ]
  },
  {
   "cell_type": "code",
   "execution_count": 8,
   "metadata": {
    "execution": {
     "iopub.execute_input": "2023-01-28T00:27:28.896568Z",
     "iopub.status.busy": "2023-01-28T00:27:28.896218Z",
     "iopub.status.idle": "2023-01-28T00:27:29.444128Z",
     "shell.execute_reply": "2023-01-28T00:27:29.443388Z"
    }
   },
   "outputs": [
    {
     "name": "stdout",
     "output_type": "stream",
     "text": [
      "Here are duplicated barcodes:\n"
     ]
    },
    {
     "data": {
      "text/html": [
       "<table border=\"1\" class=\"dataframe\">\n",
       "  <thead>\n",
       "    <tr style=\"text-align: right;\">\n",
       "      <th>library</th>\n",
       "      <th>barcode</th>\n",
       "      <th>duplicate_count</th>\n",
       "    </tr>\n",
       "  </thead>\n",
       "  <tbody>\n",
       "    <tr>\n",
       "      <td>lib51_53</td>\n",
       "      <td>AAACTTCTGAGAAAAA</td>\n",
       "      <td>2</td>\n",
       "    </tr>\n",
       "    <tr>\n",
       "      <td>lib51_53</td>\n",
       "      <td>GCTCAATATATATATC</td>\n",
       "      <td>2</td>\n",
       "    </tr>\n",
       "    <tr>\n",
       "      <td>lib51_53</td>\n",
       "      <td>TCTGTATAGACTTAAC</td>\n",
       "      <td>2</td>\n",
       "    </tr>\n",
       "    <tr>\n",
       "      <td>lib52_54</td>\n",
       "      <td>ACAAAGAATTCAAATT</td>\n",
       "      <td>2</td>\n",
       "    </tr>\n",
       "    <tr>\n",
       "      <td>lib52_54</td>\n",
       "      <td>GGACTAATGAACCATG</td>\n",
       "      <td>2</td>\n",
       "    </tr>\n",
       "  </tbody>\n",
       "</table>"
      ],
      "text/plain": [
       "<IPython.core.display.HTML object>"
      ]
     },
     "metadata": {},
     "output_type": "display_data"
    },
    {
     "name": "stdout",
     "output_type": "stream",
     "text": [
      "\n",
      "Removing the 5 duplicated barcodes.Started with 245760 barcodes:\n",
      "After removing duplicates, there are 245750 barcodes.\n"
     ]
    }
   ],
   "source": [
    "dup_barcodes = (\n",
    "    variants\n",
    "    .groupby(['library', 'barcode'])\n",
    "    .size()\n",
    "    .rename('duplicate_count')\n",
    "    .reset_index()\n",
    "    .query('duplicate_count > 1')\n",
    "    )\n",
    "\n",
    "print('Here are duplicated barcodes:')\n",
    "display(HTML(dup_barcodes.head().to_html(index=False)))\n",
    "\n",
    "print(f\"\\nRemoving the {len(dup_barcodes)} duplicated barcodes.\"\n",
    "      f\"Started with {len(variants)} barcodes:\")\n",
    "variants = (\n",
    "    variants\n",
    "    .merge(dup_barcodes, on=['library', 'barcode'], how='outer')\n",
    "    .query('duplicate_count.isnull()', engine='python')\n",
    "    )\n",
    "print(f\"After removing duplicates, there are {len(variants)} barcodes.\")"
   ]
  },
  {
   "cell_type": "markdown",
   "metadata": {},
   "source": [
    "Pull out a target sequence for matching to the barcode and flanking sequence regions. Note, in this pipeline this is ok because our different backgrounds don't have differing flanks or other features within the actual N16 region covered in Illumina sequencing. If ever placing in-line barcodes here in the future, we would need to modify this."
   ]
  },
  {
   "cell_type": "code",
   "execution_count": 9,
   "metadata": {
    "execution": {
     "iopub.execute_input": "2023-01-28T00:27:29.447923Z",
     "iopub.status.busy": "2023-01-28T00:27:29.447626Z",
     "iopub.status.idle": "2023-01-28T00:27:29.531889Z",
     "shell.execute_reply": "2023-01-28T00:27:29.530964Z"
    }
   },
   "outputs": [],
   "source": [
    "# get wildtype gene sequence for primary target\n",
    "targets = alignparse.targets.Targets(seqsfile=config['amplicons_MERS'],\n",
    "                                     feature_parse_specs=config['feature_parse_specs_MERS'])"
   ]
  },
  {
   "cell_type": "markdown",
   "metadata": {},
   "source": [
    "## Setup to parse barcodes\n",
    "Read data frame with list of all barcode runs."
   ]
  },
  {
   "cell_type": "code",
   "execution_count": 10,
   "metadata": {
    "execution": {
     "iopub.execute_input": "2023-01-28T00:27:29.536644Z",
     "iopub.status.busy": "2023-01-28T00:27:29.536226Z",
     "iopub.status.idle": "2023-01-28T00:27:29.558617Z",
     "shell.execute_reply": "2023-01-28T00:27:29.557985Z"
    }
   },
   "outputs": [
    {
     "data": {
      "text/html": [
       "<table border=\"1\" class=\"dataframe\">\n",
       "  <thead>\n",
       "    <tr style=\"text-align: right;\">\n",
       "      <th>library</th>\n",
       "      <th>replicate</th>\n",
       "      <th>sample</th>\n",
       "      <th>sample_type</th>\n",
       "      <th>sort_bin</th>\n",
       "      <th>concentration</th>\n",
       "      <th>date</th>\n",
       "      <th>number_cells</th>\n",
       "      <th>R1</th>\n",
       "    </tr>\n",
       "  </thead>\n",
       "  <tbody>\n",
       "    <tr>\n",
       "      <td>lib51_53</td>\n",
       "      <td>A</td>\n",
       "      <td>TiteSeq_hDPP4_01_bin1</td>\n",
       "      <td>TiteSeq_hDPP4</td>\n",
       "      <td>1</td>\n",
       "      <td>1.0</td>\n",
       "      <td>221213</td>\n",
       "      <td>2979526</td>\n",
       "      <td>[/shared/ngs/illumina/tstarr/221228_VH00699_241_AACH7KYM5/Unaligned/Project_tstarr/221213_s1_b1_S1_R1_001.fastq.gz]</td>\n",
       "    </tr>\n",
       "    <tr>\n",
       "      <td>lib51_53</td>\n",
       "      <td>A</td>\n",
       "      <td>TiteSeq_hDPP4_01_bin2</td>\n",
       "      <td>TiteSeq_hDPP4</td>\n",
       "      <td>2</td>\n",
       "      <td>1.0</td>\n",
       "      <td>221213</td>\n",
       "      <td>1403409</td>\n",
       "      <td>[/shared/ngs/illumina/tstarr/221228_VH00699_241_AACH7KYM5/Unaligned/Project_tstarr/221213_s1_b2_S2_R1_001.fastq.gz]</td>\n",
       "    </tr>\n",
       "    <tr>\n",
       "      <td>lib51_53</td>\n",
       "      <td>A</td>\n",
       "      <td>TiteSeq_hDPP4_01_bin3</td>\n",
       "      <td>TiteSeq_hDPP4</td>\n",
       "      <td>3</td>\n",
       "      <td>1.0</td>\n",
       "      <td>221213</td>\n",
       "      <td>1288376</td>\n",
       "      <td>[/shared/ngs/illumina/tstarr/221228_VH00699_241_AACH7KYM5/Unaligned/Project_tstarr/221213_s1_b3_S3_R1_001.fastq.gz]</td>\n",
       "    </tr>\n",
       "    <tr>\n",
       "      <td>lib51_53</td>\n",
       "      <td>A</td>\n",
       "      <td>TiteSeq_hDPP4_01_bin4</td>\n",
       "      <td>TiteSeq_hDPP4</td>\n",
       "      <td>4</td>\n",
       "      <td>1.0</td>\n",
       "      <td>221213</td>\n",
       "      <td>1262113</td>\n",
       "      <td>[/shared/ngs/illumina/tstarr/221228_VH00699_241_AACH7KYM5/Unaligned/Project_tstarr/221213_s1_b4_S4_R1_001.fastq.gz]</td>\n",
       "    </tr>\n",
       "    <tr>\n",
       "      <td>lib51_53</td>\n",
       "      <td>A</td>\n",
       "      <td>TiteSeq_hDPP4_02_bin1</td>\n",
       "      <td>TiteSeq_hDPP4</td>\n",
       "      <td>1</td>\n",
       "      <td>2.0</td>\n",
       "      <td>221213</td>\n",
       "      <td>3407489</td>\n",
       "      <td>[/shared/ngs/illumina/tstarr/221228_VH00699_241_AACH7KYM5/Unaligned/Project_tstarr/221213_s2_b1_S5_R1_001.fastq.gz]</td>\n",
       "    </tr>\n",
       "    <tr>\n",
       "      <td>lib51_53</td>\n",
       "      <td>A</td>\n",
       "      <td>TiteSeq_hDPP4_02_bin2</td>\n",
       "      <td>TiteSeq_hDPP4</td>\n",
       "      <td>2</td>\n",
       "      <td>2.0</td>\n",
       "      <td>221213</td>\n",
       "      <td>1526544</td>\n",
       "      <td>[/shared/ngs/illumina/tstarr/221228_VH00699_241_AACH7KYM5/Unaligned/Project_tstarr/221213_s2_b2_S6_R1_001.fastq.gz]</td>\n",
       "    </tr>\n",
       "    <tr>\n",
       "      <td>lib51_53</td>\n",
       "      <td>A</td>\n",
       "      <td>TiteSeq_hDPP4_02_bin3</td>\n",
       "      <td>TiteSeq_hDPP4</td>\n",
       "      <td>3</td>\n",
       "      <td>2.0</td>\n",
       "      <td>221213</td>\n",
       "      <td>1153617</td>\n",
       "      <td>[/shared/ngs/illumina/tstarr/221228_VH00699_241_AACH7KYM5/Unaligned/Project_tstarr/221213_s2_b3_S7_R1_001.fastq.gz]</td>\n",
       "    </tr>\n",
       "    <tr>\n",
       "      <td>lib51_53</td>\n",
       "      <td>A</td>\n",
       "      <td>TiteSeq_hDPP4_02_bin4</td>\n",
       "      <td>TiteSeq_hDPP4</td>\n",
       "      <td>4</td>\n",
       "      <td>2.0</td>\n",
       "      <td>221213</td>\n",
       "      <td>1004697</td>\n",
       "      <td>[/shared/ngs/illumina/tstarr/221228_VH00699_241_AACH7KYM5/Unaligned/Project_tstarr/221213_s2_b4_S8_R1_001.fastq.gz]</td>\n",
       "    </tr>\n",
       "    <tr>\n",
       "      <td>lib51_53</td>\n",
       "      <td>A</td>\n",
       "      <td>TiteSeq_hDPP4_03_bin1</td>\n",
       "      <td>TiteSeq_hDPP4</td>\n",
       "      <td>1</td>\n",
       "      <td>3.0</td>\n",
       "      <td>221213</td>\n",
       "      <td>4374876</td>\n",
       "      <td>[/shared/ngs/illumina/tstarr/221228_VH00699_241_AACH7KYM5/Unaligned/Project_tstarr/221213_s3_b1_S9_R1_001.fastq.gz]</td>\n",
       "    </tr>\n",
       "    <tr>\n",
       "      <td>lib51_53</td>\n",
       "      <td>A</td>\n",
       "      <td>TiteSeq_hDPP4_03_bin2</td>\n",
       "      <td>TiteSeq_hDPP4</td>\n",
       "      <td>2</td>\n",
       "      <td>3.0</td>\n",
       "      <td>221213</td>\n",
       "      <td>1178077</td>\n",
       "      <td>[/shared/ngs/illumina/tstarr/221228_VH00699_241_AACH7KYM5/Unaligned/Project_tstarr/221213_s3_b2_S10_R1_001.fastq.gz]</td>\n",
       "    </tr>\n",
       "    <tr>\n",
       "      <td>lib51_53</td>\n",
       "      <td>A</td>\n",
       "      <td>TiteSeq_hDPP4_03_bin3</td>\n",
       "      <td>TiteSeq_hDPP4</td>\n",
       "      <td>3</td>\n",
       "      <td>3.0</td>\n",
       "      <td>221213</td>\n",
       "      <td>1107868</td>\n",
       "      <td>[/shared/ngs/illumina/tstarr/221228_VH00699_241_AACH7KYM5/Unaligned/Project_tstarr/221213_s3_b3_S11_R1_001.fastq.gz]</td>\n",
       "    </tr>\n",
       "    <tr>\n",
       "      <td>lib51_53</td>\n",
       "      <td>A</td>\n",
       "      <td>TiteSeq_hDPP4_03_bin4</td>\n",
       "      <td>TiteSeq_hDPP4</td>\n",
       "      <td>4</td>\n",
       "      <td>3.0</td>\n",
       "      <td>221213</td>\n",
       "      <td>719585</td>\n",
       "      <td>[/shared/ngs/illumina/tstarr/221228_VH00699_241_AACH7KYM5/Unaligned/Project_tstarr/221213_s3_b4_S12_R1_001.fastq.gz]</td>\n",
       "    </tr>\n",
       "    <tr>\n",
       "      <td>lib51_53</td>\n",
       "      <td>A</td>\n",
       "      <td>TiteSeq_hDPP4_04_bin1</td>\n",
       "      <td>TiteSeq_hDPP4</td>\n",
       "      <td>1</td>\n",
       "      <td>4.0</td>\n",
       "      <td>221213</td>\n",
       "      <td>4615914</td>\n",
       "      <td>[/shared/ngs/illumina/tstarr/221228_VH00699_241_AACH7KYM5/Unaligned/Project_tstarr/221213_s4_b1_S13_R1_001.fastq.gz]</td>\n",
       "    </tr>\n",
       "    <tr>\n",
       "      <td>lib51_53</td>\n",
       "      <td>A</td>\n",
       "      <td>TiteSeq_hDPP4_04_bin2</td>\n",
       "      <td>TiteSeq_hDPP4</td>\n",
       "      <td>2</td>\n",
       "      <td>4.0</td>\n",
       "      <td>221213</td>\n",
       "      <td>1149682</td>\n",
       "      <td>[/shared/ngs/illumina/tstarr/221228_VH00699_241_AACH7KYM5/Unaligned/Project_tstarr/221213_s4_b2_S14_R1_001.fastq.gz]</td>\n",
       "    </tr>\n",
       "    <tr>\n",
       "      <td>lib51_53</td>\n",
       "      <td>A</td>\n",
       "      <td>TiteSeq_hDPP4_04_bin3</td>\n",
       "      <td>TiteSeq_hDPP4</td>\n",
       "      <td>3</td>\n",
       "      <td>4.0</td>\n",
       "      <td>221213</td>\n",
       "      <td>710331</td>\n",
       "      <td>[/shared/ngs/illumina/tstarr/221228_VH00699_241_AACH7KYM5/Unaligned/Project_tstarr/221213_s4_b3_S15_R1_001.fastq.gz]</td>\n",
       "    </tr>\n",
       "    <tr>\n",
       "      <td>lib51_53</td>\n",
       "      <td>A</td>\n",
       "      <td>TiteSeq_hDPP4_04_bin4</td>\n",
       "      <td>TiteSeq_hDPP4</td>\n",
       "      <td>4</td>\n",
       "      <td>4.0</td>\n",
       "      <td>221213</td>\n",
       "      <td>123303</td>\n",
       "      <td>[/shared/ngs/illumina/tstarr/221228_VH00699_241_AACH7KYM5/Unaligned/Project_tstarr/221213_s4_b4_S16_R1_001.fastq.gz]</td>\n",
       "    </tr>\n",
       "    <tr>\n",
       "      <td>lib51_53</td>\n",
       "      <td>A</td>\n",
       "      <td>TiteSeq_hDPP4_05_bin1</td>\n",
       "      <td>TiteSeq_hDPP4</td>\n",
       "      <td>1</td>\n",
       "      <td>5.0</td>\n",
       "      <td>221213</td>\n",
       "      <td>5269498</td>\n",
       "      <td>[/shared/ngs/illumina/tstarr/221228_VH00699_241_AACH7KYM5/Unaligned/Project_tstarr/221213_s5_b1_S17_R1_001.fastq.gz]</td>\n",
       "    </tr>\n",
       "    <tr>\n",
       "      <td>lib51_53</td>\n",
       "      <td>A</td>\n",
       "      <td>TiteSeq_hDPP4_05_bin2</td>\n",
       "      <td>TiteSeq_hDPP4</td>\n",
       "      <td>2</td>\n",
       "      <td>5.0</td>\n",
       "      <td>221213</td>\n",
       "      <td>875320</td>\n",
       "      <td>[/shared/ngs/illumina/tstarr/221228_VH00699_241_AACH7KYM5/Unaligned/Project_tstarr/221213_s5_b2_S18_R1_001.fastq.gz]</td>\n",
       "    </tr>\n",
       "    <tr>\n",
       "      <td>lib51_53</td>\n",
       "      <td>A</td>\n",
       "      <td>TiteSeq_hDPP4_05_bin3</td>\n",
       "      <td>TiteSeq_hDPP4</td>\n",
       "      <td>3</td>\n",
       "      <td>5.0</td>\n",
       "      <td>221213</td>\n",
       "      <td>133991</td>\n",
       "      <td>[/shared/ngs/illumina/tstarr/221228_VH00699_241_AACH7KYM5/Unaligned/Project_tstarr/221213_s5_b3_S19_R1_001.fastq.gz]</td>\n",
       "    </tr>\n",
       "    <tr>\n",
       "      <td>lib51_53</td>\n",
       "      <td>A</td>\n",
       "      <td>TiteSeq_hDPP4_05_bin4</td>\n",
       "      <td>TiteSeq_hDPP4</td>\n",
       "      <td>4</td>\n",
       "      <td>5.0</td>\n",
       "      <td>221213</td>\n",
       "      <td>4635</td>\n",
       "      <td>[/shared/ngs/illumina/tstarr/221228_VH00699_241_AACH7KYM5/Unaligned/Project_tstarr/221213_s5_b4_S20_R1_001.fastq.gz]</td>\n",
       "    </tr>\n",
       "    <tr>\n",
       "      <td>lib51_53</td>\n",
       "      <td>A</td>\n",
       "      <td>TiteSeq_hDPP4_06_bin1</td>\n",
       "      <td>TiteSeq_hDPP4</td>\n",
       "      <td>1</td>\n",
       "      <td>6.0</td>\n",
       "      <td>221213</td>\n",
       "      <td>5868162</td>\n",
       "      <td>[/shared/ngs/illumina/tstarr/221228_VH00699_241_AACH7KYM5/Unaligned/Project_tstarr/221213_s6_b1_S21_R1_001.fastq.gz]</td>\n",
       "    </tr>\n",
       "    <tr>\n",
       "      <td>lib51_53</td>\n",
       "      <td>A</td>\n",
       "      <td>TiteSeq_hDPP4_06_bin2</td>\n",
       "      <td>TiteSeq_hDPP4</td>\n",
       "      <td>2</td>\n",
       "      <td>6.0</td>\n",
       "      <td>221213</td>\n",
       "      <td>311628</td>\n",
       "      <td>[/shared/ngs/illumina/tstarr/221228_VH00699_241_AACH7KYM5/Unaligned/Project_tstarr/221213_s6_b2_S22_R1_001.fastq.gz]</td>\n",
       "    </tr>\n",
       "    <tr>\n",
       "      <td>lib51_53</td>\n",
       "      <td>A</td>\n",
       "      <td>TiteSeq_hDPP4_06_bin3</td>\n",
       "      <td>TiteSeq_hDPP4</td>\n",
       "      <td>3</td>\n",
       "      <td>6.0</td>\n",
       "      <td>221213</td>\n",
       "      <td>5760</td>\n",
       "      <td>[/shared/ngs/illumina/tstarr/221228_VH00699_241_AACH7KYM5/Unaligned/Project_tstarr/221213_s6_b3_S23_R1_001.fastq.gz]</td>\n",
       "    </tr>\n",
       "    <tr>\n",
       "      <td>lib51_53</td>\n",
       "      <td>A</td>\n",
       "      <td>TiteSeq_hDPP4_06_bin4</td>\n",
       "      <td>TiteSeq_hDPP4</td>\n",
       "      <td>4</td>\n",
       "      <td>6.0</td>\n",
       "      <td>221213</td>\n",
       "      <td>586</td>\n",
       "      <td>[/shared/ngs/illumina/tstarr/221228_VH00699_241_AACH7KYM5/Unaligned/Project_tstarr/221213_s6_b4_S24_R1_001.fastq.gz]</td>\n",
       "    </tr>\n",
       "    <tr>\n",
       "      <td>lib51_53</td>\n",
       "      <td>A</td>\n",
       "      <td>TiteSeq_hDPP4_07_bin1</td>\n",
       "      <td>TiteSeq_hDPP4</td>\n",
       "      <td>1</td>\n",
       "      <td>7.0</td>\n",
       "      <td>221213</td>\n",
       "      <td>6185457</td>\n",
       "      <td>[/shared/ngs/illumina/tstarr/221228_VH00699_241_AACH7KYM5/Unaligned/Project_tstarr/221213_s7_b1_S25_R1_001.fastq.gz]</td>\n",
       "    </tr>\n",
       "    <tr>\n",
       "      <td>lib51_53</td>\n",
       "      <td>A</td>\n",
       "      <td>TiteSeq_hDPP4_07_bin2</td>\n",
       "      <td>TiteSeq_hDPP4</td>\n",
       "      <td>2</td>\n",
       "      <td>7.0</td>\n",
       "      <td>221213</td>\n",
       "      <td>182421</td>\n",
       "      <td>[/shared/ngs/illumina/tstarr/221228_VH00699_241_AACH7KYM5/Unaligned/Project_tstarr/221213_s7_b2_S26_R1_001.fastq.gz]</td>\n",
       "    </tr>\n",
       "    <tr>\n",
       "      <td>lib51_53</td>\n",
       "      <td>A</td>\n",
       "      <td>TiteSeq_hDPP4_07_bin3</td>\n",
       "      <td>TiteSeq_hDPP4</td>\n",
       "      <td>3</td>\n",
       "      <td>7.0</td>\n",
       "      <td>221213</td>\n",
       "      <td>5522</td>\n",
       "      <td>[/shared/ngs/illumina/tstarr/221228_VH00699_241_AACH7KYM5/Unaligned/Project_tstarr/221213_s7_b3_S27_R1_001.fastq.gz]</td>\n",
       "    </tr>\n",
       "    <tr>\n",
       "      <td>lib51_53</td>\n",
       "      <td>A</td>\n",
       "      <td>TiteSeq_hDPP4_07_bin4</td>\n",
       "      <td>TiteSeq_hDPP4</td>\n",
       "      <td>4</td>\n",
       "      <td>7.0</td>\n",
       "      <td>221213</td>\n",
       "      <td>303</td>\n",
       "      <td>[/shared/ngs/illumina/tstarr/221228_VH00699_241_AACH7KYM5/Unaligned/Project_tstarr/221213_s7_b4_S28_R1_001.fastq.gz]</td>\n",
       "    </tr>\n",
       "    <tr>\n",
       "      <td>lib51_53</td>\n",
       "      <td>A</td>\n",
       "      <td>TiteSeq_hDPP4_08_bin1</td>\n",
       "      <td>TiteSeq_hDPP4</td>\n",
       "      <td>1</td>\n",
       "      <td>8.0</td>\n",
       "      <td>221213</td>\n",
       "      <td>6432873</td>\n",
       "      <td>[/shared/ngs/illumina/tstarr/221228_VH00699_241_AACH7KYM5/Unaligned/Project_tstarr/221213_s8_b1_S29_R1_001.fastq.gz]</td>\n",
       "    </tr>\n",
       "    <tr>\n",
       "      <td>lib51_53</td>\n",
       "      <td>A</td>\n",
       "      <td>TiteSeq_hDPP4_08_bin2</td>\n",
       "      <td>TiteSeq_hDPP4</td>\n",
       "      <td>2</td>\n",
       "      <td>8.0</td>\n",
       "      <td>221213</td>\n",
       "      <td>175979</td>\n",
       "      <td>[/shared/ngs/illumina/tstarr/221228_VH00699_241_AACH7KYM5/Unaligned/Project_tstarr/221213_s8_b2_S30_R1_001.fastq.gz]</td>\n",
       "    </tr>\n",
       "    <tr>\n",
       "      <td>lib51_53</td>\n",
       "      <td>A</td>\n",
       "      <td>TiteSeq_hDPP4_08_bin3</td>\n",
       "      <td>TiteSeq_hDPP4</td>\n",
       "      <td>3</td>\n",
       "      <td>8.0</td>\n",
       "      <td>221213</td>\n",
       "      <td>2807</td>\n",
       "      <td>[/shared/ngs/illumina/tstarr/221228_VH00699_241_AACH7KYM5/Unaligned/Project_tstarr/221213_s8_b3_S31_R1_001.fastq.gz]</td>\n",
       "    </tr>\n",
       "    <tr>\n",
       "      <td>lib51_53</td>\n",
       "      <td>A</td>\n",
       "      <td>TiteSeq_hDPP4_08_bin4</td>\n",
       "      <td>TiteSeq_hDPP4</td>\n",
       "      <td>4</td>\n",
       "      <td>8.0</td>\n",
       "      <td>221213</td>\n",
       "      <td>234</td>\n",
       "      <td>[/shared/ngs/illumina/tstarr/221228_VH00699_241_AACH7KYM5/Unaligned/Project_tstarr/221213_s8_b4_S32_R1_001.fastq.gz]</td>\n",
       "    </tr>\n",
       "    <tr>\n",
       "      <td>lib51_53</td>\n",
       "      <td>A</td>\n",
       "      <td>TiteSeq_hDPP4_09_bin1</td>\n",
       "      <td>TiteSeq_hDPP4</td>\n",
       "      <td>1</td>\n",
       "      <td>9.0</td>\n",
       "      <td>221213</td>\n",
       "      <td>6131811</td>\n",
       "      <td>[/shared/ngs/illumina/tstarr/221228_VH00699_241_AACH7KYM5/Unaligned/Project_tstarr/221213_s9_b1_S33_R1_001.fastq.gz]</td>\n",
       "    </tr>\n",
       "    <tr>\n",
       "      <td>lib51_53</td>\n",
       "      <td>A</td>\n",
       "      <td>TiteSeq_hDPP4_09_bin2</td>\n",
       "      <td>TiteSeq_hDPP4</td>\n",
       "      <td>2</td>\n",
       "      <td>9.0</td>\n",
       "      <td>221213</td>\n",
       "      <td>573092</td>\n",
       "      <td>[/shared/ngs/illumina/tstarr/221228_VH00699_241_AACH7KYM5/Unaligned/Project_tstarr/221213_s9_b2_S34_R1_001.fastq.gz]</td>\n",
       "    </tr>\n",
       "    <tr>\n",
       "      <td>lib51_53</td>\n",
       "      <td>A</td>\n",
       "      <td>TiteSeq_hDPP4_09_bin3</td>\n",
       "      <td>TiteSeq_hDPP4</td>\n",
       "      <td>3</td>\n",
       "      <td>9.0</td>\n",
       "      <td>221213</td>\n",
       "      <td>814</td>\n",
       "      <td>[/shared/ngs/illumina/tstarr/221228_VH00699_241_AACH7KYM5/Unaligned/Project_tstarr/221213_s9_b3_S35_R1_001.fastq.gz]</td>\n",
       "    </tr>\n",
       "    <tr>\n",
       "      <td>lib51_53</td>\n",
       "      <td>A</td>\n",
       "      <td>TiteSeq_hDPP4_09_bin4</td>\n",
       "      <td>TiteSeq_hDPP4</td>\n",
       "      <td>4</td>\n",
       "      <td>9.0</td>\n",
       "      <td>221213</td>\n",
       "      <td>119</td>\n",
       "      <td>[/shared/ngs/illumina/tstarr/221228_VH00699_241_AACH7KYM5/Unaligned/Project_tstarr/221213_s9_b4_S36_R1_001.fastq.gz]</td>\n",
       "    </tr>\n",
       "    <tr>\n",
       "      <td>lib51_53</td>\n",
       "      <td>A</td>\n",
       "      <td>SortSeq_bin1</td>\n",
       "      <td>SortSeq</td>\n",
       "      <td>1</td>\n",
       "      <td>NaN</td>\n",
       "      <td>221213</td>\n",
       "      <td>11620651</td>\n",
       "      <td>[/shared/ngs/illumina/tstarr/221228_VH00699_241_AACH7KYM5/Unaligned/Project_tstarr/221213_lib51-53_bin1_1_S53_R1_001.fastq.gz, /shared/ngs/illumina/tstarr/221228_VH00699_241_AACH7KYM5/Unaligned/Project_tstarr/221213_lib51-53_bin1_2_S54_R1_001.fastq.gz, /shared/ngs/illumina/tstarr/221228_VH00699_241_AACH7KYM5/Unaligned/Project_tstarr/221213_lib51-53_bin1_3_S55_R1_001.fastq.gz]</td>\n",
       "    </tr>\n",
       "    <tr>\n",
       "      <td>lib51_53</td>\n",
       "      <td>A</td>\n",
       "      <td>SortSeq_bin2</td>\n",
       "      <td>SortSeq</td>\n",
       "      <td>2</td>\n",
       "      <td>NaN</td>\n",
       "      <td>221213</td>\n",
       "      <td>4448236</td>\n",
       "      <td>[/shared/ngs/illumina/tstarr/221228_VH00699_241_AACH7KYM5/Unaligned/Project_tstarr/221213_lib51-53_bin2_1_S56_R1_001.fastq.gz, /shared/ngs/illumina/tstarr/221228_VH00699_241_AACH7KYM5/Unaligned/Project_tstarr/221213_lib51-53_bin2_2_S57_R1_001.fastq.gz]</td>\n",
       "    </tr>\n",
       "    <tr>\n",
       "      <td>lib51_53</td>\n",
       "      <td>A</td>\n",
       "      <td>SortSeq_bin3</td>\n",
       "      <td>SortSeq</td>\n",
       "      <td>3</td>\n",
       "      <td>NaN</td>\n",
       "      <td>221213</td>\n",
       "      <td>3402367</td>\n",
       "      <td>[/shared/ngs/illumina/tstarr/221228_VH00699_241_AACH7KYM5/Unaligned/Project_tstarr/221213_lib51-53_bin3_1_S58_R1_001.fastq.gz, /shared/ngs/illumina/tstarr/221228_VH00699_241_AACH7KYM5/Unaligned/Project_tstarr/221213_lib51-53_bin3_2_S59_R1_001.fastq.gz]</td>\n",
       "    </tr>\n",
       "    <tr>\n",
       "      <td>lib51_53</td>\n",
       "      <td>A</td>\n",
       "      <td>SortSeq_bin4</td>\n",
       "      <td>SortSeq</td>\n",
       "      <td>4</td>\n",
       "      <td>NaN</td>\n",
       "      <td>221213</td>\n",
       "      <td>2678000</td>\n",
       "      <td>[/shared/ngs/illumina/tstarr/221228_VH00699_241_AACH7KYM5/Unaligned/Project_tstarr/221213_lib51-53_bin4_1_S60_R1_001.fastq.gz, /shared/ngs/illumina/tstarr/221228_VH00699_241_AACH7KYM5/Unaligned/Project_tstarr/221213_lib51-53_bin4_2_S61_R1_001.fastq.gz]</td>\n",
       "    </tr>\n",
       "    <tr>\n",
       "      <td>lib52_54</td>\n",
       "      <td>A</td>\n",
       "      <td>SortSeq_bin1</td>\n",
       "      <td>SortSeq</td>\n",
       "      <td>1</td>\n",
       "      <td>NaN</td>\n",
       "      <td>221213</td>\n",
       "      <td>7023038</td>\n",
       "      <td>[/shared/ngs/illumina/tstarr/221228_VH00699_241_AACH7KYM5/Unaligned/Project_tstarr/221213_lib52-54_bin1_1_S62_R1_001.fastq.gz, /shared/ngs/illumina/tstarr/221228_VH00699_241_AACH7KYM5/Unaligned/Project_tstarr/221213_lib52-54_bin1_2_S63_R1_001.fastq.gz, /shared/ngs/illumina/tstarr/221228_VH00699_241_AACH7KYM5/Unaligned/Project_tstarr/221213_lib52-54_bin1_3_S64_R1_001.fastq.gz]</td>\n",
       "    </tr>\n",
       "    <tr>\n",
       "      <td>lib52_54</td>\n",
       "      <td>A</td>\n",
       "      <td>SortSeq_bin2</td>\n",
       "      <td>SortSeq</td>\n",
       "      <td>2</td>\n",
       "      <td>NaN</td>\n",
       "      <td>221213</td>\n",
       "      <td>3977028</td>\n",
       "      <td>[/shared/ngs/illumina/tstarr/221228_VH00699_241_AACH7KYM5/Unaligned/Project_tstarr/221213_lib52-54_bin2_1_S65_R1_001.fastq.gz, /shared/ngs/illumina/tstarr/221228_VH00699_241_AACH7KYM5/Unaligned/Project_tstarr/221213_lib52-54_bin2_2_S66_R1_001.fastq.gz]</td>\n",
       "    </tr>\n",
       "    <tr>\n",
       "      <td>lib52_54</td>\n",
       "      <td>A</td>\n",
       "      <td>SortSeq_bin3</td>\n",
       "      <td>SortSeq</td>\n",
       "      <td>3</td>\n",
       "      <td>NaN</td>\n",
       "      <td>221213</td>\n",
       "      <td>3640404</td>\n",
       "      <td>[/shared/ngs/illumina/tstarr/221228_VH00699_241_AACH7KYM5/Unaligned/Project_tstarr/221213_lib52-54_bin3_1_S67_R1_001.fastq.gz, /shared/ngs/illumina/tstarr/221228_VH00699_241_AACH7KYM5/Unaligned/Project_tstarr/221213_lib52-54_bin3_2_S68_R1_001.fastq.gz]</td>\n",
       "    </tr>\n",
       "    <tr>\n",
       "      <td>lib52_54</td>\n",
       "      <td>A</td>\n",
       "      <td>SortSeq_bin4</td>\n",
       "      <td>SortSeq</td>\n",
       "      <td>4</td>\n",
       "      <td>NaN</td>\n",
       "      <td>221213</td>\n",
       "      <td>4523054</td>\n",
       "      <td>[/shared/ngs/illumina/tstarr/221228_VH00699_241_AACH7KYM5/Unaligned/Project_tstarr/221213_lib52-54_bin4_1_S69_R1_001.fastq.gz, /shared/ngs/illumina/tstarr/221228_VH00699_241_AACH7KYM5/Unaligned/Project_tstarr/221213_lib52-54_bin4_2_S70_R1_001.fastq.gz]</td>\n",
       "    </tr>\n",
       "  </tbody>\n",
       "</table>"
      ],
      "text/plain": [
       "<IPython.core.display.HTML object>"
      ]
     },
     "metadata": {},
     "output_type": "display_data"
    }
   ],
   "source": [
    "# barcode runs with R1 files by semicolon string split\n",
    "barcode_runs = (pd.read_csv(config['barcode_runs'])\n",
    "                .assign(R1=lambda x: x['R1'].str.split('; '))\n",
    "                )\n",
    "\n",
    "display(HTML(barcode_runs.to_html(index=False)))"
   ]
  },
  {
   "cell_type": "markdown",
   "metadata": {},
   "source": [
    "Make sure library / sample combinations are unique:"
   ]
  },
  {
   "cell_type": "code",
   "execution_count": 11,
   "metadata": {
    "execution": {
     "iopub.execute_input": "2023-01-28T00:27:29.562489Z",
     "iopub.status.busy": "2023-01-28T00:27:29.562189Z",
     "iopub.status.idle": "2023-01-28T00:27:29.568936Z",
     "shell.execute_reply": "2023-01-28T00:27:29.568282Z"
    }
   },
   "outputs": [],
   "source": [
    "assert len(barcode_runs) == len(barcode_runs.groupby(['library', 'replicate', 'sample']))"
   ]
  },
  {
   "cell_type": "markdown",
   "metadata": {},
   "source": [
    "Make sure the the libraries for which we have barcode runs are all in our variant table:"
   ]
  },
  {
   "cell_type": "code",
   "execution_count": 12,
   "metadata": {
    "execution": {
     "iopub.execute_input": "2023-01-28T00:27:29.572452Z",
     "iopub.status.busy": "2023-01-28T00:27:29.572152Z",
     "iopub.status.idle": "2023-01-28T00:27:29.594073Z",
     "shell.execute_reply": "2023-01-28T00:27:29.593416Z"
    }
   },
   "outputs": [],
   "source": [
    "unknown_libs = set(barcode_runs['library']) - set(variants['library'])\n",
    "if unknown_libs:\n",
    "    raise ValueError(f\"Libraries with barcode runs not in variant table: {unknown_libs}\")"
   ]
  },
  {
   "cell_type": "markdown",
   "metadata": {},
   "source": [
    "Now we initialize an [IlluminaBarcodeParser](https://jbloomlab.github.io/dms_variants/dms_variants.illuminabarcodeparser.html#dms_variants.illuminabarcodeparser.IlluminaBarcodeParser) for each library.\n",
    "\n",
    "First, get the length of the barcode from the alignment target after making sure the same length for all targets:"
   ]
  },
  {
   "cell_type": "code",
   "execution_count": 13,
   "metadata": {
    "execution": {
     "iopub.execute_input": "2023-01-28T00:27:29.597233Z",
     "iopub.status.busy": "2023-01-28T00:27:29.597014Z",
     "iopub.status.idle": "2023-01-28T00:27:29.601762Z",
     "shell.execute_reply": "2023-01-28T00:27:29.601111Z"
    }
   },
   "outputs": [
    {
     "name": "stdout",
     "output_type": "stream",
     "text": [
      "Barcodes of length 16\n"
     ]
    }
   ],
   "source": [
    "bclen = len(targets.targets[0].get_feature('barcode').seq)\n",
    "\n",
    "assert (bclen == len(target.get_feature('barcode').seq) for target in targets.targets)\n",
    "\n",
    "print(f\"Barcodes of length {bclen}\")"
   ]
  },
  {
   "cell_type": "markdown",
   "metadata": {},
   "source": [
    "The other barcode parsing params come from the config file:"
   ]
  },
  {
   "cell_type": "code",
   "execution_count": 14,
   "metadata": {
    "execution": {
     "iopub.execute_input": "2023-01-28T00:27:29.605265Z",
     "iopub.status.busy": "2023-01-28T00:27:29.604925Z",
     "iopub.status.idle": "2023-01-28T00:27:29.612508Z",
     "shell.execute_reply": "2023-01-28T00:27:29.611875Z"
    }
   },
   "outputs": [
    {
     "data": {
      "text/html": [
       "<table border=\"1\" class=\"dataframe\">\n",
       "  <thead>\n",
       "    <tr style=\"text-align: right;\">\n",
       "      <th>parameter</th>\n",
       "      <th>value</th>\n",
       "    </tr>\n",
       "  </thead>\n",
       "  <tbody>\n",
       "    <tr>\n",
       "      <td>upstream</td>\n",
       "      <td>GGCCGC</td>\n",
       "    </tr>\n",
       "    <tr>\n",
       "      <td>downstream</td>\n",
       "      <td></td>\n",
       "    </tr>\n",
       "    <tr>\n",
       "      <td>minq</td>\n",
       "      <td>20</td>\n",
       "    </tr>\n",
       "    <tr>\n",
       "      <td>upstream_mismatch</td>\n",
       "      <td>1</td>\n",
       "    </tr>\n",
       "    <tr>\n",
       "      <td>downstream_mismatch</td>\n",
       "      <td>0</td>\n",
       "    </tr>\n",
       "  </tbody>\n",
       "</table>"
      ],
      "text/plain": [
       "<IPython.core.display.HTML object>"
      ]
     },
     "metadata": {},
     "output_type": "display_data"
    }
   ],
   "source": [
    "parser_params = config['illumina_barcode_parser_params']\n",
    "\n",
    "display(HTML(\n",
    "    pd.Series(parser_params, name='value')\n",
    "    .rename_axis(index='parameter')\n",
    "    .reset_index()\n",
    "    .to_html(index=False)\n",
    "    ))"
   ]
  },
  {
   "cell_type": "markdown",
   "metadata": {},
   "source": [
    "The parser needs to know the set of valid barcodes, which are stored in the variant table and are different for each library.\n",
    "So we create a different parser for each library using these valid barcode sets:"
   ]
  },
  {
   "cell_type": "code",
   "execution_count": 15,
   "metadata": {
    "execution": {
     "iopub.execute_input": "2023-01-28T00:27:29.615290Z",
     "iopub.status.busy": "2023-01-28T00:27:29.614996Z",
     "iopub.status.idle": "2023-01-28T00:27:29.746135Z",
     "shell.execute_reply": "2023-01-28T00:27:29.745442Z"
    }
   },
   "outputs": [
    {
     "name": "stdout",
     "output_type": "stream",
     "text": [
      "Number of valid barcodes searched for by each parser:\n"
     ]
    },
    {
     "data": {
      "text/html": [
       "<table border=\"1\" class=\"dataframe\">\n",
       "  <thead>\n",
       "    <tr style=\"text-align: right;\">\n",
       "      <th>library</th>\n",
       "      <th>number of valid barcodes</th>\n",
       "    </tr>\n",
       "  </thead>\n",
       "  <tbody>\n",
       "    <tr>\n",
       "      <td>lib51_53</td>\n",
       "      <td>111372</td>\n",
       "    </tr>\n",
       "    <tr>\n",
       "      <td>lib52_54</td>\n",
       "      <td>134378</td>\n",
       "    </tr>\n",
       "  </tbody>\n",
       "</table>"
      ],
      "text/plain": [
       "<IPython.core.display.HTML object>"
      ]
     },
     "metadata": {},
     "output_type": "display_data"
    }
   ],
   "source": [
    "# create dict keyed by library, value is parser for library\n",
    "parsers = {lib: dms_variants.illuminabarcodeparser.IlluminaBarcodeParser(\n",
    "                    bclen=bclen,\n",
    "                    valid_barcodes=variants.loc[variants['library']==lib]['barcode'],\n",
    "                    **parser_params)\n",
    "           for lib in set(variants['library'])}\n",
    "\n",
    "print('Number of valid barcodes searched for by each parser:')\n",
    "display(HTML(\n",
    "    pd.DataFrame([(lib, len(p.valid_barcodes)) for lib, p in parsers.items()],\n",
    "                 columns=['library', 'number of valid barcodes'])\n",
    "    .to_html(index=False)\n",
    "    ))"
   ]
  },
  {
   "cell_type": "markdown",
   "metadata": {},
   "source": [
    "## Parse barcodes\n",
    "We now parse the barcodes.\n",
    "Since this will take a while, we utilize multiple CPUs via the Python [multiprocessing](https://docs.python.org/3.6/library/multiprocessing.html) module.\n",
    "First, determine how many CPUs to use.\n",
    "We use the minimum of the user-specified number hardcoded below and the number actually available.\n",
    "(If you are running *interactively* on the Hutch cluster, you may need to reduce the number below in order to avoid an error as there is an enforced CPU limit on the home `rhino` nodes):"
   ]
  },
  {
   "cell_type": "code",
   "execution_count": 16,
   "metadata": {
    "execution": {
     "iopub.execute_input": "2023-01-28T00:27:29.750515Z",
     "iopub.status.busy": "2023-01-28T00:27:29.750148Z",
     "iopub.status.idle": "2023-01-28T00:27:29.755583Z",
     "shell.execute_reply": "2023-01-28T00:27:29.754559Z"
    }
   },
   "outputs": [
    {
     "name": "stdout",
     "output_type": "stream",
     "text": [
      "Using 8 CPUs\n"
     ]
    }
   ],
   "source": [
    "ncpus = min(config['max_cpus'], multiprocessing.cpu_count())\n",
    "print(f\"Using {ncpus} CPUs\")"
   ]
  },
  {
   "cell_type": "markdown",
   "metadata": {},
   "source": [
    "Parse the barcodes in parallel via a [multiprocessing.Pool](https://docs.python.org/3.6/library/multiprocessing.html#multiprocessing.pool.Pool) using all the available CPUs to get a list of the data frames with barcode counts / fates for each sample:"
   ]
  },
  {
   "cell_type": "code",
   "execution_count": 17,
   "metadata": {
    "execution": {
     "iopub.execute_input": "2023-01-28T00:27:29.759800Z",
     "iopub.status.busy": "2023-01-28T00:27:29.759435Z",
     "iopub.status.idle": "2023-01-28T01:01:11.052232Z",
     "shell.execute_reply": "2023-01-28T01:01:11.051486Z"
    }
   },
   "outputs": [],
   "source": [
    "def process_func(parser, r1files, library, replicate, sample):\n",
    "    \"\"\"Convenience function to be starmapped to multiprocessing pool.\"\"\"\n",
    "    return parser.parse(r1files, add_cols={'library': library, 'replicate': replicate, 'sample': sample})\n",
    "\n",
    "# parallel computation of list of data frames\n",
    "with multiprocessing.pool.Pool(processes=ncpus) as pool:\n",
    "    bclist = pool.starmap(\n",
    "                process_func,\n",
    "                [(parsers[run.library], run.R1, run.library, run.replicate, run.sample)\n",
    "                  for run in barcode_runs.itertuples()],\n",
    "                )"
   ]
  },
  {
   "cell_type": "markdown",
   "metadata": {},
   "source": [
    "Now concatenate the list into data frames of barcode counts and barcode fates:"
   ]
  },
  {
   "cell_type": "code",
   "execution_count": 18,
   "metadata": {
    "execution": {
     "iopub.execute_input": "2023-01-28T01:01:11.055453Z",
     "iopub.status.busy": "2023-01-28T01:01:11.055138Z",
     "iopub.status.idle": "2023-01-28T01:01:11.976597Z",
     "shell.execute_reply": "2023-01-28T01:01:11.975983Z"
    }
   },
   "outputs": [
    {
     "name": "stdout",
     "output_type": "stream",
     "text": [
      "First few lines of counts data frame:\n"
     ]
    },
    {
     "data": {
      "text/html": [
       "<table border=\"1\" class=\"dataframe\">\n",
       "  <thead>\n",
       "    <tr style=\"text-align: right;\">\n",
       "      <th>barcode</th>\n",
       "      <th>count</th>\n",
       "      <th>library</th>\n",
       "      <th>replicate</th>\n",
       "      <th>sample</th>\n",
       "    </tr>\n",
       "  </thead>\n",
       "  <tbody>\n",
       "    <tr>\n",
       "      <td>GAATAAACCGAAAACA</td>\n",
       "      <td>2844</td>\n",
       "      <td>lib51_53</td>\n",
       "      <td>A</td>\n",
       "      <td>TiteSeq_hDPP4_01_bin1</td>\n",
       "    </tr>\n",
       "    <tr>\n",
       "      <td>AGGATGCCACAATCCC</td>\n",
       "      <td>2782</td>\n",
       "      <td>lib51_53</td>\n",
       "      <td>A</td>\n",
       "      <td>TiteSeq_hDPP4_01_bin1</td>\n",
       "    </tr>\n",
       "    <tr>\n",
       "      <td>AAGACCGAAAAAAATC</td>\n",
       "      <td>2304</td>\n",
       "      <td>lib51_53</td>\n",
       "      <td>A</td>\n",
       "      <td>TiteSeq_hDPP4_01_bin1</td>\n",
       "    </tr>\n",
       "    <tr>\n",
       "      <td>TTGCGCAATTACAAGA</td>\n",
       "      <td>2001</td>\n",
       "      <td>lib51_53</td>\n",
       "      <td>A</td>\n",
       "      <td>TiteSeq_hDPP4_01_bin1</td>\n",
       "    </tr>\n",
       "    <tr>\n",
       "      <td>CTATCTACCAAGTAAG</td>\n",
       "      <td>1997</td>\n",
       "      <td>lib51_53</td>\n",
       "      <td>A</td>\n",
       "      <td>TiteSeq_hDPP4_01_bin1</td>\n",
       "    </tr>\n",
       "  </tbody>\n",
       "</table>"
      ],
      "text/plain": [
       "<IPython.core.display.HTML object>"
      ]
     },
     "metadata": {},
     "output_type": "display_data"
    },
    {
     "name": "stdout",
     "output_type": "stream",
     "text": [
      "First few lines of fates data frame:\n"
     ]
    },
    {
     "data": {
      "text/html": [
       "<table border=\"1\" class=\"dataframe\">\n",
       "  <thead>\n",
       "    <tr style=\"text-align: right;\">\n",
       "      <th>fate</th>\n",
       "      <th>count</th>\n",
       "      <th>library</th>\n",
       "      <th>replicate</th>\n",
       "      <th>sample</th>\n",
       "    </tr>\n",
       "  </thead>\n",
       "  <tbody>\n",
       "    <tr>\n",
       "      <td>valid barcode</td>\n",
       "      <td>12232264</td>\n",
       "      <td>lib51_53</td>\n",
       "      <td>A</td>\n",
       "      <td>TiteSeq_hDPP4_01_bin1</td>\n",
       "    </tr>\n",
       "    <tr>\n",
       "      <td>invalid barcode</td>\n",
       "      <td>2532373</td>\n",
       "      <td>lib51_53</td>\n",
       "      <td>A</td>\n",
       "      <td>TiteSeq_hDPP4_01_bin1</td>\n",
       "    </tr>\n",
       "    <tr>\n",
       "      <td>low quality barcode</td>\n",
       "      <td>2431862</td>\n",
       "      <td>lib51_53</td>\n",
       "      <td>A</td>\n",
       "      <td>TiteSeq_hDPP4_01_bin1</td>\n",
       "    </tr>\n",
       "    <tr>\n",
       "      <td>unparseable barcode</td>\n",
       "      <td>200265</td>\n",
       "      <td>lib51_53</td>\n",
       "      <td>A</td>\n",
       "      <td>TiteSeq_hDPP4_01_bin1</td>\n",
       "    </tr>\n",
       "    <tr>\n",
       "      <td>failed chastity filter</td>\n",
       "      <td>0</td>\n",
       "      <td>lib51_53</td>\n",
       "      <td>A</td>\n",
       "      <td>TiteSeq_hDPP4_01_bin1</td>\n",
       "    </tr>\n",
       "  </tbody>\n",
       "</table>"
      ],
      "text/plain": [
       "<IPython.core.display.HTML object>"
      ]
     },
     "metadata": {},
     "output_type": "display_data"
    }
   ],
   "source": [
    "counts = pd.concat([samplecounts for samplecounts, _ in bclist],\n",
    "                   sort=False,\n",
    "                   ignore_index=True)\n",
    "\n",
    "print('First few lines of counts data frame:')\n",
    "display(HTML(counts.head().to_html(index=False)))\n",
    "\n",
    "fates = pd.concat([samplefates for _, samplefates in bclist],\n",
    "                  sort=False,\n",
    "                  ignore_index=True)\n",
    "\n",
    "print('First few lines of fates data frame:')\n",
    "display(HTML(fates.head().to_html(index=False)))"
   ]
  },
  {
   "cell_type": "markdown",
   "metadata": {},
   "source": [
    "## Examine fates of parsed barcodes\n",
    "First, we'll analyze the \"fates\" of the parsed barcodes.\n",
    "These fates represent what happened to each Illumina read we parsed:\n",
    " - Did the barcode read fail the Illumina chastity filter?\n",
    " - Was the barcode *unparseable* (i.e., the read didn't appear to be a valid barcode based on flanking regions)?\n",
    " - Was the barcode sequence too *low quality* based on the Illumina quality scores?\n",
    " - Was the barcode parseable but *invalid* (i.e., not in our list of variant-associated barcodes in the codon variant table)?\n",
    " - Was the barcode *valid*, and so will be added to variant counts.\n",
    " \n",
    "First, we just write a CSV file with all the barcode fates:"
   ]
  },
  {
   "cell_type": "code",
   "execution_count": 19,
   "metadata": {
    "execution": {
     "iopub.execute_input": "2023-01-28T01:01:11.980549Z",
     "iopub.status.busy": "2023-01-28T01:01:11.980300Z",
     "iopub.status.idle": "2023-01-28T01:01:12.000482Z",
     "shell.execute_reply": "2023-01-28T01:01:11.999480Z"
    }
   },
   "outputs": [
    {
     "name": "stdout",
     "output_type": "stream",
     "text": [
      "Writing barcode fates to results/counts/barcode_fates.csv\n"
     ]
    }
   ],
   "source": [
    "fatesfile = os.path.join(config['counts_dir'], 'barcode_fates.csv')\n",
    "print(f\"Writing barcode fates to {fatesfile}\")\n",
    "fates.to_csv(fatesfile, index=False)"
   ]
  },
  {
   "cell_type": "markdown",
   "metadata": {},
   "source": [
    "Next, we tabulate the barcode fates in wide format:"
   ]
  },
  {
   "cell_type": "code",
   "execution_count": 20,
   "metadata": {
    "execution": {
     "iopub.execute_input": "2023-01-28T01:01:12.004999Z",
     "iopub.status.busy": "2023-01-28T01:01:12.004499Z",
     "iopub.status.idle": "2023-01-28T01:01:12.026916Z",
     "shell.execute_reply": "2023-01-28T01:01:12.026273Z"
    }
   },
   "outputs": [
    {
     "data": {
      "text/html": [
       "<table border=\"1\" class=\"dataframe\">\n",
       "  <thead>\n",
       "    <tr style=\"text-align: right;\">\n",
       "      <th></th>\n",
       "      <th></th>\n",
       "      <th>fate</th>\n",
       "      <th>failed chastity filter</th>\n",
       "      <th>invalid barcode</th>\n",
       "      <th>low quality barcode</th>\n",
       "      <th>unparseable barcode</th>\n",
       "      <th>valid barcode</th>\n",
       "    </tr>\n",
       "    <tr>\n",
       "      <th>library</th>\n",
       "      <th>replicate</th>\n",
       "      <th>sample</th>\n",
       "      <th></th>\n",
       "      <th></th>\n",
       "      <th></th>\n",
       "      <th></th>\n",
       "      <th></th>\n",
       "    </tr>\n",
       "  </thead>\n",
       "  <tbody>\n",
       "    <tr>\n",
       "      <th rowspan=\"40\" valign=\"top\">lib51_53</th>\n",
       "      <th rowspan=\"40\" valign=\"top\">A</th>\n",
       "      <th>SortSeq_bin1</th>\n",
       "      <td>0</td>\n",
       "      <td>17281763</td>\n",
       "      <td>16397713</td>\n",
       "      <td>1316213</td>\n",
       "      <td>78651457</td>\n",
       "    </tr>\n",
       "    <tr>\n",
       "      <th>SortSeq_bin2</th>\n",
       "      <td>0</td>\n",
       "      <td>1826820</td>\n",
       "      <td>1785020</td>\n",
       "      <td>148965</td>\n",
       "      <td>8815303</td>\n",
       "    </tr>\n",
       "    <tr>\n",
       "      <th>SortSeq_bin3</th>\n",
       "      <td>0</td>\n",
       "      <td>1137765</td>\n",
       "      <td>1102475</td>\n",
       "      <td>89522</td>\n",
       "      <td>5491238</td>\n",
       "    </tr>\n",
       "    <tr>\n",
       "      <th>SortSeq_bin4</th>\n",
       "      <td>0</td>\n",
       "      <td>763445</td>\n",
       "      <td>768410</td>\n",
       "      <td>57834</td>\n",
       "      <td>3726930</td>\n",
       "    </tr>\n",
       "    <tr>\n",
       "      <th>TiteSeq_hDPP4_01_bin1</th>\n",
       "      <td>0</td>\n",
       "      <td>2532373</td>\n",
       "      <td>2431862</td>\n",
       "      <td>200265</td>\n",
       "      <td>12232264</td>\n",
       "    </tr>\n",
       "    <tr>\n",
       "      <th>TiteSeq_hDPP4_01_bin2</th>\n",
       "      <td>0</td>\n",
       "      <td>695298</td>\n",
       "      <td>675814</td>\n",
       "      <td>55475</td>\n",
       "      <td>3408326</td>\n",
       "    </tr>\n",
       "    <tr>\n",
       "      <th>TiteSeq_hDPP4_01_bin3</th>\n",
       "      <td>0</td>\n",
       "      <td>686533</td>\n",
       "      <td>647398</td>\n",
       "      <td>50435</td>\n",
       "      <td>3134845</td>\n",
       "    </tr>\n",
       "    <tr>\n",
       "      <th>TiteSeq_hDPP4_01_bin4</th>\n",
       "      <td>0</td>\n",
       "      <td>1459466</td>\n",
       "      <td>1373487</td>\n",
       "      <td>100941</td>\n",
       "      <td>6467063</td>\n",
       "    </tr>\n",
       "    <tr>\n",
       "      <th>TiteSeq_hDPP4_02_bin1</th>\n",
       "      <td>0</td>\n",
       "      <td>2463091</td>\n",
       "      <td>2394143</td>\n",
       "      <td>195357</td>\n",
       "      <td>12089172</td>\n",
       "    </tr>\n",
       "    <tr>\n",
       "      <th>TiteSeq_hDPP4_02_bin2</th>\n",
       "      <td>0</td>\n",
       "      <td>1042558</td>\n",
       "      <td>1002824</td>\n",
       "      <td>83453</td>\n",
       "      <td>5029427</td>\n",
       "    </tr>\n",
       "    <tr>\n",
       "      <th>TiteSeq_hDPP4_02_bin3</th>\n",
       "      <td>0</td>\n",
       "      <td>757552</td>\n",
       "      <td>679441</td>\n",
       "      <td>51852</td>\n",
       "      <td>3441227</td>\n",
       "    </tr>\n",
       "    <tr>\n",
       "      <th>TiteSeq_hDPP4_02_bin4</th>\n",
       "      <td>0</td>\n",
       "      <td>650211</td>\n",
       "      <td>575371</td>\n",
       "      <td>43778</td>\n",
       "      <td>2882348</td>\n",
       "    </tr>\n",
       "    <tr>\n",
       "      <th>TiteSeq_hDPP4_03_bin1</th>\n",
       "      <td>0</td>\n",
       "      <td>3387560</td>\n",
       "      <td>3298836</td>\n",
       "      <td>266659</td>\n",
       "      <td>16561480</td>\n",
       "    </tr>\n",
       "    <tr>\n",
       "      <th>TiteSeq_hDPP4_03_bin2</th>\n",
       "      <td>0</td>\n",
       "      <td>615381</td>\n",
       "      <td>590142</td>\n",
       "      <td>46604</td>\n",
       "      <td>2886426</td>\n",
       "    </tr>\n",
       "    <tr>\n",
       "      <th>TiteSeq_hDPP4_03_bin3</th>\n",
       "      <td>0</td>\n",
       "      <td>738437</td>\n",
       "      <td>678073</td>\n",
       "      <td>52926</td>\n",
       "      <td>3345677</td>\n",
       "    </tr>\n",
       "    <tr>\n",
       "      <th>TiteSeq_hDPP4_03_bin4</th>\n",
       "      <td>0</td>\n",
       "      <td>304706</td>\n",
       "      <td>269195</td>\n",
       "      <td>20380</td>\n",
       "      <td>1340113</td>\n",
       "    </tr>\n",
       "    <tr>\n",
       "      <th>TiteSeq_hDPP4_04_bin1</th>\n",
       "      <td>0</td>\n",
       "      <td>2977675</td>\n",
       "      <td>3024685</td>\n",
       "      <td>239356</td>\n",
       "      <td>14509064</td>\n",
       "    </tr>\n",
       "    <tr>\n",
       "      <th>TiteSeq_hDPP4_04_bin2</th>\n",
       "      <td>0</td>\n",
       "      <td>447903</td>\n",
       "      <td>427782</td>\n",
       "      <td>32812</td>\n",
       "      <td>2105546</td>\n",
       "    </tr>\n",
       "    <tr>\n",
       "      <th>TiteSeq_hDPP4_04_bin3</th>\n",
       "      <td>0</td>\n",
       "      <td>439386</td>\n",
       "      <td>400236</td>\n",
       "      <td>30570</td>\n",
       "      <td>1947145</td>\n",
       "    </tr>\n",
       "    <tr>\n",
       "      <th>TiteSeq_hDPP4_04_bin4</th>\n",
       "      <td>0</td>\n",
       "      <td>296624</td>\n",
       "      <td>265645</td>\n",
       "      <td>16812</td>\n",
       "      <td>1296289</td>\n",
       "    </tr>\n",
       "    <tr>\n",
       "      <th>TiteSeq_hDPP4_05_bin1</th>\n",
       "      <td>0</td>\n",
       "      <td>3778630</td>\n",
       "      <td>3737872</td>\n",
       "      <td>294364</td>\n",
       "      <td>18295799</td>\n",
       "    </tr>\n",
       "    <tr>\n",
       "      <th>TiteSeq_hDPP4_05_bin2</th>\n",
       "      <td>0</td>\n",
       "      <td>2742</td>\n",
       "      <td>8199</td>\n",
       "      <td>253</td>\n",
       "      <td>11641</td>\n",
       "    </tr>\n",
       "    <tr>\n",
       "      <th>TiteSeq_hDPP4_05_bin3</th>\n",
       "      <td>0</td>\n",
       "      <td>320680</td>\n",
       "      <td>290979</td>\n",
       "      <td>19248</td>\n",
       "      <td>1405930</td>\n",
       "    </tr>\n",
       "    <tr>\n",
       "      <th>TiteSeq_hDPP4_05_bin4</th>\n",
       "      <td>0</td>\n",
       "      <td>5043</td>\n",
       "      <td>6258</td>\n",
       "      <td>241</td>\n",
       "      <td>23866</td>\n",
       "    </tr>\n",
       "    <tr>\n",
       "      <th>TiteSeq_hDPP4_06_bin1</th>\n",
       "      <td>0</td>\n",
       "      <td>3033132</td>\n",
       "      <td>3007919</td>\n",
       "      <td>231431</td>\n",
       "      <td>14529960</td>\n",
       "    </tr>\n",
       "    <tr>\n",
       "      <th>TiteSeq_hDPP4_06_bin2</th>\n",
       "      <td>0</td>\n",
       "      <td>305956</td>\n",
       "      <td>289093</td>\n",
       "      <td>21381</td>\n",
       "      <td>1418299</td>\n",
       "    </tr>\n",
       "    <tr>\n",
       "      <th>TiteSeq_hDPP4_06_bin3</th>\n",
       "      <td>0</td>\n",
       "      <td>14637</td>\n",
       "      <td>16298</td>\n",
       "      <td>1239</td>\n",
       "      <td>64510</td>\n",
       "    </tr>\n",
       "    <tr>\n",
       "      <th>TiteSeq_hDPP4_06_bin4</th>\n",
       "      <td>0</td>\n",
       "      <td>1148</td>\n",
       "      <td>2305</td>\n",
       "      <td>86</td>\n",
       "      <td>5133</td>\n",
       "    </tr>\n",
       "    <tr>\n",
       "      <th>TiteSeq_hDPP4_07_bin1</th>\n",
       "      <td>0</td>\n",
       "      <td>1328832</td>\n",
       "      <td>1288094</td>\n",
       "      <td>108424</td>\n",
       "      <td>6354521</td>\n",
       "    </tr>\n",
       "    <tr>\n",
       "      <th>TiteSeq_hDPP4_07_bin2</th>\n",
       "      <td>0</td>\n",
       "      <td>201000</td>\n",
       "      <td>194369</td>\n",
       "      <td>15323</td>\n",
       "      <td>955709</td>\n",
       "    </tr>\n",
       "    <tr>\n",
       "      <th>TiteSeq_hDPP4_07_bin3</th>\n",
       "      <td>0</td>\n",
       "      <td>6364</td>\n",
       "      <td>6534</td>\n",
       "      <td>479</td>\n",
       "      <td>26936</td>\n",
       "    </tr>\n",
       "    <tr>\n",
       "      <th>TiteSeq_hDPP4_07_bin4</th>\n",
       "      <td>0</td>\n",
       "      <td>978</td>\n",
       "      <td>1240</td>\n",
       "      <td>111</td>\n",
       "      <td>3533</td>\n",
       "    </tr>\n",
       "    <tr>\n",
       "      <th>TiteSeq_hDPP4_08_bin1</th>\n",
       "      <td>0</td>\n",
       "      <td>2870263</td>\n",
       "      <td>2764395</td>\n",
       "      <td>220157</td>\n",
       "      <td>13667600</td>\n",
       "    </tr>\n",
       "    <tr>\n",
       "      <th>TiteSeq_hDPP4_08_bin2</th>\n",
       "      <td>0</td>\n",
       "      <td>247519</td>\n",
       "      <td>246283</td>\n",
       "      <td>19127</td>\n",
       "      <td>1184999</td>\n",
       "    </tr>\n",
       "    <tr>\n",
       "      <th>TiteSeq_hDPP4_08_bin3</th>\n",
       "      <td>0</td>\n",
       "      <td>8658</td>\n",
       "      <td>8372</td>\n",
       "      <td>347</td>\n",
       "      <td>39572</td>\n",
       "    </tr>\n",
       "    <tr>\n",
       "      <th>TiteSeq_hDPP4_08_bin4</th>\n",
       "      <td>0</td>\n",
       "      <td>1010</td>\n",
       "      <td>836</td>\n",
       "      <td>13</td>\n",
       "      <td>906</td>\n",
       "    </tr>\n",
       "    <tr>\n",
       "      <th>TiteSeq_hDPP4_09_bin1</th>\n",
       "      <td>0</td>\n",
       "      <td>2328526</td>\n",
       "      <td>2260485</td>\n",
       "      <td>183967</td>\n",
       "      <td>11166836</td>\n",
       "    </tr>\n",
       "    <tr>\n",
       "      <th>TiteSeq_hDPP4_09_bin2</th>\n",
       "      <td>0</td>\n",
       "      <td>278963</td>\n",
       "      <td>270566</td>\n",
       "      <td>21532</td>\n",
       "      <td>1347292</td>\n",
       "    </tr>\n",
       "    <tr>\n",
       "      <th>TiteSeq_hDPP4_09_bin3</th>\n",
       "      <td>0</td>\n",
       "      <td>1860</td>\n",
       "      <td>5387</td>\n",
       "      <td>144</td>\n",
       "      <td>9514</td>\n",
       "    </tr>\n",
       "    <tr>\n",
       "      <th>TiteSeq_hDPP4_09_bin4</th>\n",
       "      <td>0</td>\n",
       "      <td>145</td>\n",
       "      <td>1337</td>\n",
       "      <td>10</td>\n",
       "      <td>760</td>\n",
       "    </tr>\n",
       "    <tr>\n",
       "      <th rowspan=\"4\" valign=\"top\">lib52_54</th>\n",
       "      <th rowspan=\"4\" valign=\"top\">A</th>\n",
       "      <th>SortSeq_bin1</th>\n",
       "      <td>0</td>\n",
       "      <td>840727</td>\n",
       "      <td>499200</td>\n",
       "      <td>43222</td>\n",
       "      <td>2183632</td>\n",
       "    </tr>\n",
       "    <tr>\n",
       "      <th>SortSeq_bin2</th>\n",
       "      <td>0</td>\n",
       "      <td>1942843</td>\n",
       "      <td>1187040</td>\n",
       "      <td>95742</td>\n",
       "      <td>5203681</td>\n",
       "    </tr>\n",
       "    <tr>\n",
       "      <th>SortSeq_bin3</th>\n",
       "      <td>0</td>\n",
       "      <td>1088773</td>\n",
       "      <td>688194</td>\n",
       "      <td>53125</td>\n",
       "      <td>2933250</td>\n",
       "    </tr>\n",
       "    <tr>\n",
       "      <th>SortSeq_bin4</th>\n",
       "      <td>0</td>\n",
       "      <td>2460868</td>\n",
       "      <td>1591440</td>\n",
       "      <td>114237</td>\n",
       "      <td>6490595</td>\n",
       "    </tr>\n",
       "  </tbody>\n",
       "</table>"
      ],
      "text/plain": [
       "<IPython.core.display.HTML object>"
      ]
     },
     "metadata": {},
     "output_type": "display_data"
    }
   ],
   "source": [
    "display(HTML(fates\n",
    "             .pivot_table(columns='fate',\n",
    "                          values='count',\n",
    "                          index=['library', 'replicate', 'sample'])\n",
    "             .to_html()\n",
    "             ))"
   ]
  },
  {
   "cell_type": "markdown",
   "metadata": {},
   "source": [
    "Now we plot the barcode-read fates for each library / sample, showing the bars for valid barcodes in orange and the others in gray.\n",
    "We see that the largest fraction of barcode reads correspond to valid barcodes, and most of the others are invalid barcodes (probably because the map to variants that aren't present in our variant table since we didn't associate all variants with barcodes). The exception to this is lib2 Titeseq_03_bin3; the PCR for this sample in the original sequencing run failed, so we followed it up with a single MiSeq lane. We did not filter out the PhiX reads from this data before parsing, so these PhiX reads will deflate the fraction of valid barcode reads as expected, but does not indicate any problems."
   ]
  },
  {
   "cell_type": "code",
   "execution_count": 21,
   "metadata": {
    "execution": {
     "iopub.execute_input": "2023-01-28T01:01:12.030644Z",
     "iopub.status.busy": "2023-01-28T01:01:12.030331Z",
     "iopub.status.idle": "2023-01-28T01:01:17.689522Z",
     "shell.execute_reply": "2023-01-28T01:01:17.688849Z"
    }
   },
   "outputs": [
    {
     "data": {
      "image/png": "[encoded data removed]",
      "text/plain": [
       "<Figure size 432x288 with 80 Axes>"
      ]
     },
     "metadata": {
      "needs_background": "light"
     },
     "output_type": "display_data"
    }
   ],
   "source": [
    "barcode_fate_plot = (\n",
    "    ggplot(\n",
    "        fates\n",
    "        .assign(sample=lambda x: pd.Categorical(x['sample'],\n",
    "                                                x['sample'].unique(),\n",
    "                                                ordered=True),\n",
    "                fate=lambda x: pd.Categorical(x['fate'],\n",
    "                                              x['fate'].unique(),\n",
    "                                              ordered=True),\n",
    "                is_valid=lambda x: x['fate'] == 'valid barcode'\n",
    "                ), \n",
    "        aes('fate', 'count', fill='is_valid')) +\n",
    "    geom_bar(stat='identity') +\n",
    "    facet_grid('sample ~ library + replicate') +\n",
    "    facet_grid('sample ~ library + replicate') +\n",
    "    scale_fill_manual(CBPALETTE, guide=False) +\n",
    "    theme(figure_size=(1.4 * (1 + fates['library'].nunique() + fates['replicate'].nunique()),\n",
    "                       1.7 * (1.2 + fates['sample'].nunique())),\n",
    "          axis_text_x=element_text(angle=90),\n",
    "          panel_grid_major_x=element_blank()\n",
    "          ) +\n",
    "    scale_y_continuous(labels=dms_variants.utils.latex_sci_not,\n",
    "                       name='number of reads')\n",
    "    )\n",
    "\n",
    "_ = barcode_fate_plot.draw()"
   ]
  },
  {
   "cell_type": "markdown",
   "metadata": {},
   "source": [
    "## Output csv of barcode counts in variant-barcode lookup table"
   ]
  },
  {
   "cell_type": "code",
   "execution_count": 22,
   "metadata": {
    "execution": {
     "iopub.execute_input": "2023-01-28T01:01:17.695039Z",
     "iopub.status.busy": "2023-01-28T01:01:17.694749Z",
     "iopub.status.idle": "2023-01-28T01:01:25.460167Z",
     "shell.execute_reply": "2023-01-28T01:01:25.459177Z"
    }
   },
   "outputs": [
    {
     "name": "stdout",
     "output_type": "stream",
     "text": [
      "Writing variant counts to results/counts/variant_counts.csv\n"
     ]
    }
   ],
   "source": [
    "print(f\"Writing variant counts to {config['variant_counts_file']}\")\n",
    "counts.to_csv(config['variant_counts_file'], index=False)"
   ]
  },
  {
   "cell_type": "markdown",
   "metadata": {},
   "source": [
    "The [CodonVariantTable](https://jbloomlab.github.io/dms_variants/dms_variants.codonvarianttable.html#dms_variants.codonvarianttable.CodonVariantTable) has lots of nice functions that can be used to analyze the counts it contains.\n",
    "However, we do that in the next notebook so we don't have to re-run this entire (rather computationally intensive) notebook every time we want to analyze a new aspect of the counts."
   ]
  },
  {
   "cell_type": "code",
   "execution_count": null,
   "metadata": {},
   "outputs": [],
   "source": []
  }
 ],
 "metadata": {
  "kernelspec": {
   "display_name": "Python 3 (ipykernel)",
   "language": "python",
   "name": "python3"
  },
  "language_info": {
   "codemirror_mode": {
    "name": "ipython",
    "version": 3
   },
   "file_extension": ".py",
   "mimetype": "text/x-python",
   "name": "python",
   "nbconvert_exporter": "python",
   "pygments_lexer": "ipython3",
   "version": "3.8.15"
  }
 },
 "nbformat": 4,
 "nbformat_minor": 4
}
